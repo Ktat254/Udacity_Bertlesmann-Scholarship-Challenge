{
  "nbformat": 4,
  "nbformat_minor": 0,
  "metadata": {
    "kernelspec": {
      "name": "python3",
      "display_name": "Python 3"
    },
    "language_info": {
      "codemirror_mode": {
        "name": "ipython",
        "version": 3
      },
      "file_extension": ".py",
      "mimetype": "text/x-python",
      "name": "python",
      "nbconvert_exporter": "python",
      "pygments_lexer": "ipython3",
      "version": "3.6.6"
    },
    "colab": {
      "name": "Part 5 - Inference and Validation (Exercises).ipynb",
      "provenance": [],
      "include_colab_link": true
    },
    "accelerator": "GPU"
  },
  "cells": [
    {
      "cell_type": "markdown",
      "metadata": {
        "id": "view-in-github",
        "colab_type": "text"
      },
      "source": [
        "<a href=\"https://colab.research.google.com/github/Ktat254/Udacity_Bertlesmann-Scholarship-Challenge/blob/master/Part_5_Inference_and_Validation_(Exercises).ipynb\" target=\"_parent\"><img src=\"https://colab.research.google.com/assets/colab-badge.svg\" alt=\"Open In Colab\"/></a>"
      ]
    },
    {
      "cell_type": "markdown",
      "metadata": {
        "id": "DC5JCZlOSrrO",
        "colab_type": "text"
      },
      "source": [
        "# Inference and Validation\n",
        "\n",
        "Now that you have a trained network, you can use it for making predictions. This is typically called **inference**, a term borrowed from statistics. However, neural networks have a tendency to perform *too well* on the training data and aren't able to generalize to data that hasn't been seen before. This is called **overfitting** and it impairs inference performance. To test for overfitting while training, we measure the performance on data not in the training set called the **validation** set. We avoid overfitting through regularization such as dropout while monitoring the validation performance during training. In this notebook, I'll show you how to do this in PyTorch. \n",
        "\n",
        "As usual, let's start by loading the dataset through torchvision. You'll learn more about torchvision and loading data in a later part. This time we'll be taking advantage of the test set which you can get by setting `train=False` here:\n",
        "\n",
        "```python\n",
        "testset = datasets.FashionMNIST('~/.pytorch/F_MNIST_data/', download=True, train=False, transform=transform)\n",
        "```\n",
        "\n",
        "The test set contains images just like the training set. Typically you'll see 10-20% of the original dataset held out for testing and validation with the rest being used for training."
      ]
    },
    {
      "cell_type": "code",
      "metadata": {
        "id": "gPvPMVwrSrrU",
        "colab_type": "code",
        "outputId": "7edba499-78ef-4b69-a5b8-38ad9d244e62",
        "colab": {
          "base_uri": "https://localhost:8080/",
          "height": 146
        }
      },
      "source": [
        "!wget -c https://raw.githubusercontent.com/udacity/deep-learning-v2-pytorch/master/intro-to-pytorch/helper.py\n",
        "import torch\n",
        "from torchvision import datasets, transforms\n",
        "\n",
        "# Define a transform to normalize the data\n",
        "transform = transforms.Compose([transforms.ToTensor(),\n",
        "                                transforms.Normalize((0.5,), (0.5,))])\n",
        "# Download and load the training data\n",
        "trainset = datasets.FashionMNIST('~/.pytorch/F_MNIST_data/', download=True, train=True, transform=transform)\n",
        "trainloader = torch.utils.data.DataLoader(trainset, batch_size=64, shuffle=True)\n",
        "\n",
        "# Download and load the test data\n",
        "testset = datasets.FashionMNIST('~/.pytorch/F_MNIST_data/', download=True, train=False, transform=transform)\n",
        "testloader = torch.utils.data.DataLoader(testset, batch_size=64, shuffle=True)"
      ],
      "execution_count": 15,
      "outputs": [
        {
          "output_type": "stream",
          "text": [
            "--2020-01-21 19:49:58--  https://raw.githubusercontent.com/udacity/deep-learning-v2-pytorch/master/intro-to-pytorch/helper.py\n",
            "Resolving raw.githubusercontent.com (raw.githubusercontent.com)... 151.101.0.133, 151.101.64.133, 151.101.128.133, ...\n",
            "Connecting to raw.githubusercontent.com (raw.githubusercontent.com)|151.101.0.133|:443... connected.\n",
            "HTTP request sent, awaiting response... 416 Range Not Satisfiable\n",
            "\n",
            "    The file is already fully retrieved; nothing to do.\n",
            "\n"
          ],
          "name": "stdout"
        }
      ]
    },
    {
      "cell_type": "markdown",
      "metadata": {
        "id": "WoEpbNllSrrg",
        "colab_type": "text"
      },
      "source": [
        "Here I'll create a model like normal, using the same one from my solution for part 4."
      ]
    },
    {
      "cell_type": "code",
      "metadata": {
        "id": "DXjh0kUrSrrk",
        "colab_type": "code",
        "outputId": "f1dfc6a1-f801-4cb7-f734-40486077be82",
        "colab": {
          "base_uri": "https://localhost:8080/",
          "height": 35
        }
      },
      "source": [
        "from torch import nn\n",
        "import torch.nn.functional as F\n",
        "from torch import optim\n",
        "\n",
        "model = nn.Sequential(nn.Linear(784, 256),\n",
        "                      nn.ReLU(),\n",
        "                      nn.Linear(256, 128),\n",
        "                      nn.ReLU(),\n",
        "                      nn.Linear(128, 64),\n",
        "                      nn.ReLU(),\n",
        "                      nn.Linear(64, 10),\n",
        "                      nn.LogSoftmax(dim = 1))\n",
        "\n",
        "criterion = nn.NLLLoss()\n",
        "images, labels = next(iter(trainloader))\n",
        "images = images.view(images.shape[0], -1)\n",
        "\n",
        "logits = model(images)\n",
        "loss = criterion(logits, labels)\n",
        "print(loss)"
      ],
      "execution_count": 16,
      "outputs": [
        {
          "output_type": "stream",
          "text": [
            "tensor(2.3160, grad_fn=<NllLossBackward>)\n"
          ],
          "name": "stdout"
        }
      ]
    },
    {
      "cell_type": "markdown",
      "metadata": {
        "id": "bfuSXWjQSrrt",
        "colab_type": "text"
      },
      "source": [
        "The goal of validation is to measure the model's performance on data that isn't part of the training set. Performance here is up to the developer to define though. Typically this is just accuracy, the percentage of classes the network predicted correctly. Other options are [precision and recall](https://en.wikipedia.org/wiki/Precision_and_recall#Definition_(classification_context)) and top-5 error rate. We'll focus on accuracy here. First I'll do a forward pass with one batch from the test set."
      ]
    },
    {
      "cell_type": "code",
      "metadata": {
        "id": "wYBkiFZgSrrx",
        "colab_type": "code",
        "outputId": "c35ae119-0fb6-4bf9-af2a-95c7166a5847",
        "colab": {
          "base_uri": "https://localhost:8080/",
          "height": 35
        }
      },
      "source": [
        "model = nn.Sequential(nn.Linear(784, 256),\n",
        "                      nn.ReLU(),\n",
        "                      nn.Linear(256, 128),\n",
        "                      nn.ReLU(),\n",
        "                      nn.Linear(128, 64),\n",
        "                      nn.ReLU(),\n",
        "                      nn.Linear(64, 10),\n",
        "                      nn.LogSoftmax(dim = 1))\n",
        "images, labels = next(iter(testloader))\n",
        "images = images.resize_(64, 784)\n",
        "\n",
        "# Get the class probabilities\n",
        "ps = torch.exp(model(images))\n",
        "# Make sure the shape is appropriate, we should get 10 class probabilities for 64 examples\n",
        "print(ps.shape)"
      ],
      "execution_count": 17,
      "outputs": [
        {
          "output_type": "stream",
          "text": [
            "torch.Size([64, 10])\n"
          ],
          "name": "stdout"
        }
      ]
    },
    {
      "cell_type": "markdown",
      "metadata": {
        "id": "l18DvCqRSrr5",
        "colab_type": "text"
      },
      "source": [
        "With the probabilities, we can get the most likely class using the `ps.topk` method. This returns the $k$ highest values. Since we just want the most likely class, we can use `ps.topk(1)`. This returns a tuple of the top-$k$ values and the top-$k$ indices. If the highest value is the fifth element, we'll get back 4 as the index."
      ]
    },
    {
      "cell_type": "code",
      "metadata": {
        "id": "_zKqZv1eSrr7",
        "colab_type": "code",
        "outputId": "6e13bf04-4f61-46dc-81a1-2f3512997890",
        "colab": {
          "base_uri": "https://localhost:8080/",
          "height": 201
        }
      },
      "source": [
        "top_p, top_class = ps.topk(1, dim=1)\n",
        "# Look at the most likely classes for the first 10 examples\n",
        "print(top_class[:10,:])"
      ],
      "execution_count": 18,
      "outputs": [
        {
          "output_type": "stream",
          "text": [
            "tensor([[9],\n",
            "        [9],\n",
            "        [9],\n",
            "        [9],\n",
            "        [9],\n",
            "        [9],\n",
            "        [9],\n",
            "        [9],\n",
            "        [9],\n",
            "        [9]])\n"
          ],
          "name": "stdout"
        }
      ]
    },
    {
      "cell_type": "markdown",
      "metadata": {
        "id": "AVmm4idUSrsD",
        "colab_type": "text"
      },
      "source": [
        "Now we can check if the predicted classes match the labels. This is simple to do by equating `top_class` and `labels`, but we have to be careful of the shapes. Here `top_class` is a 2D tensor with shape `(64, 1)` while `labels` is 1D with shape `(64)`. To get the equality to work out the way we want, `top_class` and `labels` must have the same shape.\n",
        "\n",
        "If we do\n",
        "\n",
        "```python\n",
        "equals = top_class == labels\n",
        "```\n",
        "\n",
        "`equals` will have shape `(64, 64)`, try it yourself. What it's doing is comparing the one element in each row of `top_class` with each element in `labels` which returns 64 True/False boolean values for each row."
      ]
    },
    {
      "cell_type": "code",
      "metadata": {
        "id": "pLld2QQMSrsG",
        "colab_type": "code",
        "colab": {}
      },
      "source": [
        "equals = top_class == labels.view(*top_class.shape)"
      ],
      "execution_count": 0,
      "outputs": []
    },
    {
      "cell_type": "markdown",
      "metadata": {
        "id": "6_LsaZBBSrsL",
        "colab_type": "text"
      },
      "source": [
        "Now we need to calculate the percentage of correct predictions. `equals` has binary values, either 0 or 1. This means that if we just sum up all the values and divide by the number of values, we get the percentage of correct predictions. This is the same operation as taking the mean, so we can get the accuracy with a call to `torch.mean`. If only it was that simple. If you try `torch.mean(equals)`, you'll get an error\n",
        "\n",
        "```\n",
        "RuntimeError: mean is not implemented for type torch.ByteTensor\n",
        "```\n",
        "\n",
        "This happens because `equals` has type `torch.ByteTensor` but `torch.mean` isn't implemented for tensors with that type. So we'll need to convert `equals` to a float tensor. Note that when we take `torch.mean` it returns a scalar tensor, to get the actual value as a float we'll need to do `accuracy.item()`."
      ]
    },
    {
      "cell_type": "code",
      "metadata": {
        "id": "NHnZOyF3SrsO",
        "colab_type": "code",
        "outputId": "d44fd678-a86e-41c1-a590-71ea4e7d7586",
        "colab": {
          "base_uri": "https://localhost:8080/",
          "height": 35
        }
      },
      "source": [
        "accuracy = torch.mean(equals.type(torch.FloatTensor))\n",
        "print(f'Accuracy: {accuracy.item()*100}%')"
      ],
      "execution_count": 20,
      "outputs": [
        {
          "output_type": "stream",
          "text": [
            "Accuracy: 12.5%\n"
          ],
          "name": "stdout"
        }
      ]
    },
    {
      "cell_type": "markdown",
      "metadata": {
        "id": "uOX8E37xSrsW",
        "colab_type": "text"
      },
      "source": [
        "The network is untrained so it's making random guesses and we should see an accuracy around 10%. Now let's train our network and include our validation pass so we can measure how well the network is performing on the test set. Since we're not updating our parameters in the validation pass, we can speed up our code by turning off gradients using `torch.no_grad()`:\n",
        "\n",
        "```python\n",
        "# turn off gradients\n",
        "with torch.no_grad():\n",
        "    # validation pass here\n",
        "    for images, labels in testloader:\n",
        "        ...\n",
        "```\n",
        "\n",
        ">**Exercise:** Implement the validation loop below and print out the total accuracy after the loop. You can largely copy and paste the code from above, but I suggest typing it in because writing it out yourself is essential for building the skill. In general you'll always learn more by typing it rather than copy-pasting. You should be able to get an accuracy above 80%."
      ]
    },
    {
      "cell_type": "code",
      "metadata": {
        "id": "6mfO1tCzSrsY",
        "colab_type": "code",
        "outputId": "7a16729e-4e70-4b8e-ed1a-2d1a10a2184e",
        "colab": {
          "base_uri": "https://localhost:8080/",
          "height": 568
        }
      },
      "source": [
        "model = nn.Sequential(nn.Linear(784, 256),\n",
        "                      nn.ReLU(),\n",
        "                      nn.Linear(256, 128),\n",
        "                      nn.ReLU(),\n",
        "                      nn.Linear(128, 64),\n",
        "                      nn.ReLU(),\n",
        "                      nn.Linear(64, 10),\n",
        "                      nn.LogSoftmax(dim = 1))\n",
        "\n",
        "criterion = nn.NLLLoss()\n",
        "optimizer = optim.Adam(model.parameters(), lr=0.003)\n",
        "\n",
        "epochs = 30\n",
        "steps = 0\n",
        "\n",
        "train_losses, test_losses = [], []\n",
        "for e in range(epochs):\n",
        "    running_loss = 0\n",
        "    for images, labels in trainloader:\n",
        "      images = images.view(images.shape[0], -1)\n",
        "      \n",
        "      optimizer.zero_grad()\n",
        "      \n",
        "      log_ps = model(images)\n",
        "      loss = criterion(log_ps, labels)\n",
        "      loss.backward()\n",
        "      optimizer.step()\n",
        "      running_loss += loss.item()\n",
        "        \n",
        "    else:\n",
        "      test_loss = 0\n",
        "      accuracy = 0\n",
        "      \n",
        "      ## TODO: Implement the validation pass and print out the validation accuracy\n",
        "      with torch.no_grad():\n",
        "        log_ps = model(images)\n",
        "        test_loss += criterion(log_ps, labels)\n",
        "        ps = torch.exp(log_ps)\n",
        "        \n",
        "        top_p, top_class = ps.topk(1, dim=1)\n",
        "        equals = top_class == labels.view(*top_class.shape)\n",
        "        accuracy = torch.mean(equals.type(torch.FloatTensor))\n",
        "\n",
        "      train_losses.append(running_loss/len(trainloader))\n",
        "      test_losses.append(test_loss/len(testloader))\n",
        "\n",
        "      print(\"Epoch: {}/{}.. \".format(e+1, epochs),\"Training Loss: {:.3f}.. \".format(running_loss/len(trainloader)),\n",
        "              \"Test Loss: {:.3f}.. \".format(test_loss/len(testloader)),f'Accuracy: {accuracy.item()*100}%')"
      ],
      "execution_count": 24,
      "outputs": [
        {
          "output_type": "stream",
          "text": [
            "Epoch: 1/30..  Training Loss: 0.516..  Test Loss: 0.003..  Accuracy: 81.25%\n",
            "Epoch: 2/30..  Training Loss: 0.389..  Test Loss: 0.003..  Accuracy: 84.375%\n",
            "Epoch: 3/30..  Training Loss: 0.357..  Test Loss: 0.002..  Accuracy: 84.375%\n",
            "Epoch: 4/30..  Training Loss: 0.336..  Test Loss: 0.004..  Accuracy: 81.25%\n",
            "Epoch: 5/30..  Training Loss: 0.318..  Test Loss: 0.001..  Accuracy: 96.875%\n",
            "Epoch: 6/30..  Training Loss: 0.308..  Test Loss: 0.003..  Accuracy: 87.5%\n",
            "Epoch: 7/30..  Training Loss: 0.296..  Test Loss: 0.001..  Accuracy: 93.75%\n",
            "Epoch: 8/30..  Training Loss: 0.282..  Test Loss: 0.003..  Accuracy: 93.75%\n",
            "Epoch: 9/30..  Training Loss: 0.278..  Test Loss: 0.002..  Accuracy: 84.375%\n",
            "Epoch: 10/30..  Training Loss: 0.271..  Test Loss: 0.001..  Accuracy: 96.875%\n",
            "Epoch: 11/30..  Training Loss: 0.266..  Test Loss: 0.002..  Accuracy: 87.5%\n",
            "Epoch: 12/30..  Training Loss: 0.256..  Test Loss: 0.002..  Accuracy: 87.5%\n",
            "Epoch: 13/30..  Training Loss: 0.250..  Test Loss: 0.001..  Accuracy: 93.75%\n",
            "Epoch: 14/30..  Training Loss: 0.246..  Test Loss: 0.001..  Accuracy: 96.875%\n",
            "Epoch: 15/30..  Training Loss: 0.241..  Test Loss: 0.001..  Accuracy: 87.5%\n",
            "Epoch: 16/30..  Training Loss: 0.232..  Test Loss: 0.002..  Accuracy: 93.75%\n",
            "Epoch: 17/30..  Training Loss: 0.231..  Test Loss: 0.001..  Accuracy: 96.875%\n",
            "Epoch: 18/30..  Training Loss: 0.226..  Test Loss: 0.001..  Accuracy: 100.0%\n",
            "Epoch: 19/30..  Training Loss: 0.222..  Test Loss: 0.001..  Accuracy: 93.75%\n",
            "Epoch: 20/30..  Training Loss: 0.220..  Test Loss: 0.002..  Accuracy: 84.375%\n",
            "Epoch: 21/30..  Training Loss: 0.214..  Test Loss: 0.000..  Accuracy: 100.0%\n",
            "Epoch: 22/30..  Training Loss: 0.208..  Test Loss: 0.001..  Accuracy: 93.75%\n",
            "Epoch: 23/30..  Training Loss: 0.210..  Test Loss: 0.001..  Accuracy: 96.875%\n",
            "Epoch: 24/30..  Training Loss: 0.208..  Test Loss: 0.001..  Accuracy: 93.75%\n",
            "Epoch: 25/30..  Training Loss: 0.202..  Test Loss: 0.002..  Accuracy: 87.5%\n",
            "Epoch: 26/30..  Training Loss: 0.200..  Test Loss: 0.001..  Accuracy: 93.75%\n",
            "Epoch: 27/30..  Training Loss: 0.195..  Test Loss: 0.001..  Accuracy: 90.625%\n",
            "Epoch: 28/30..  Training Loss: 0.194..  Test Loss: 0.000..  Accuracy: 96.875%\n",
            "Epoch: 29/30..  Training Loss: 0.193..  Test Loss: 0.001..  Accuracy: 90.625%\n",
            "Epoch: 30/30..  Training Loss: 0.185..  Test Loss: 0.001..  Accuracy: 93.75%\n"
          ],
          "name": "stdout"
        }
      ]
    },
    {
      "cell_type": "code",
      "metadata": {
        "id": "qofI_hT0fMSr",
        "colab_type": "code",
        "colab": {}
      },
      "source": [
        "%matplotlib inline\n",
        "%config InlineBackend.figure_format = 'retina'\n",
        "\n",
        "import matplotlib.pyplot as plt"
      ],
      "execution_count": 0,
      "outputs": []
    },
    {
      "cell_type": "code",
      "metadata": {
        "id": "Ero5y4defUvg",
        "colab_type": "code",
        "outputId": "7d84eb52-168c-4c9d-9c15-1b47fd86f90c",
        "colab": {
          "base_uri": "https://localhost:8080/",
          "height": 283
        }
      },
      "source": [
        "plt.plot(train_losses, label='Training loss')\n",
        "plt.plot(test_losses, label='Validation loss')\n",
        "plt.legend(frameon=False)"
      ],
      "execution_count": 23,
      "outputs": [
        {
          "output_type": "execute_result",
          "data": {
            "text/plain": [
              "<matplotlib.legend.Legend at 0x7fb5f56b2e48>"
            ]
          },
          "metadata": {
            "tags": []
          },
          "execution_count": 23
        },
        {
          "output_type": "display_data",
          "data": {
            "image/png": "[encoded data removed]",
            "text/plain": [
              "<Figure size 432x288 with 1 Axes>"
            ]
          },
          "metadata": {
            "tags": [],
            "image/png": {
              "width": 373,
              "height": 248
            }
          }
        }
      ]
    },
    {
      "cell_type": "markdown",
      "metadata": {
        "id": "YxBFCsdnSrse",
        "colab_type": "text"
      },
      "source": [
        "## Overfitting\n",
        "\n",
        "If we look at the training and validation losses as we train the network, we can see a phenomenon known as overfitting.\n",
        "\n",
        "<img src='assets/overfitting.png' width=450px>\n",
        "\n",
        "The network learns the training set better and better, resulting in lower training losses. However, it starts having problems generalizing to data outside the training set leading to the validation loss increasing. The ultimate goal of any deep learning model is to make predictions on new data, so we should strive to get the lowest validation loss possible. One option is to use the version of the model with the lowest validation loss, here the one around 8-10 training epochs. This strategy is called *early-stopping*. In practice, you'd save the model frequently as you're training then later choose the model with the lowest validation loss.\n",
        "\n",
        "The most common method to reduce overfitting (outside of early-stopping) is *dropout*, where we randomly drop input units. This forces the network to share information between weights, increasing it's ability to generalize to new data. Adding dropout in PyTorch is straightforward using the [`nn.Dropout`](https://pytorch.org/docs/stable/nn.html#torch.nn.Dropout) module.\n",
        "\n",
        "```python\n",
        "class Classifier(nn.Module):\n",
        "    def __init__(self):\n",
        "        super().__init__()\n",
        "        self.fc1 = nn.Linear(784, 256)\n",
        "        self.fc2 = nn.Linear(256, 128)\n",
        "        self.fc3 = nn.Linear(128, 64)\n",
        "        self.fc4 = nn.Linear(64, 10)\n",
        "        \n",
        "        # Dropout module with 0.2 drop probability\n",
        "        self.dropout = nn.Dropout(p=0.2)\n",
        "        \n",
        "    def forward(self, x):\n",
        "        # make sure input tensor is flattened\n",
        "        x = x.view(x.shape[0], -1)\n",
        "        \n",
        "        # Now with dropout\n",
        "        x = self.dropout(F.relu(self.fc1(x)))\n",
        "        x = self.dropout(F.relu(self.fc2(x)))\n",
        "        x = self.dropout(F.relu(self.fc3(x)))\n",
        "        \n",
        "        # output so no dropout here\n",
        "        x = F.log_softmax(self.fc4(x), dim=1)\n",
        "        \n",
        "        return x\n",
        "```\n",
        "\n",
        "During training we want to use dropout to prevent overfitting, but during inference we want to use the entire network. So, we need to turn off dropout during validation, testing, and whenever we're using the network to make predictions. To do this, you use `model.eval()`. This sets the model to evaluation mode where the dropout probability is 0. You can turn dropout back on by setting the model to train mode with `model.train()`. In general, the pattern for the validation loop will look like this, where you turn off gradients, set the model to evaluation mode, calculate the validation loss and metric, then set the model back to train mode.\n",
        "\n",
        "```python\n",
        "# turn off gradients\n",
        "with torch.no_grad():\n",
        "    \n",
        "    # set model to evaluation mode\n",
        "    model.eval()\n",
        "    \n",
        "    # validation pass here\n",
        "    for images, labels in testloader:\n",
        "        ...\n",
        "\n",
        "# set model back to train mode\n",
        "model.train()\n",
        "```"
      ]
    },
    {
      "cell_type": "markdown",
      "metadata": {
        "id": "yjnd1ppVSrsg",
        "colab_type": "text"
      },
      "source": [
        "> **Exercise:** Add dropout to your model and train it on Fashion-MNIST again. See if you can get a lower validation loss or higher accuracy."
      ]
    },
    {
      "cell_type": "code",
      "metadata": {
        "id": "9-AVjpjhSrsi",
        "colab_type": "code",
        "colab": {
          "base_uri": "https://localhost:8080/",
          "height": 35
        },
        "outputId": "438929b9-574e-4788-d6a3-e6ff984bcc1e"
      },
      "source": [
        "## TODO: Define your model with dropout added\n",
        "model = nn.Sequential(nn.Linear(784, 256),\n",
        "                      nn.Dropout(p=0.2),\n",
        "                      nn.ReLU(),\n",
        "                      nn.Linear(256, 128),\n",
        "                      nn.Dropout(p=0.2),\n",
        "                      nn.ReLU(),\n",
        "                      nn.Linear(128, 64),\n",
        "                      nn.Dropout(p=0.2),\n",
        "                      nn.ReLU(),\n",
        "                      nn.Linear(64, 10),\n",
        "                      nn.LogSoftmax(dim = 1))\n",
        "\n",
        "\n",
        "criterion = nn.NLLLoss()\n",
        "images, labels = next(iter(trainloader))\n",
        "images = images.view(images.shape[0], -1)\n",
        "\n",
        "logits = model(images)\n",
        "loss = criterion(logits, labels)\n",
        "print(loss)"
      ],
      "execution_count": 28,
      "outputs": [
        {
          "output_type": "stream",
          "text": [
            "tensor(2.2912, grad_fn=<NllLossBackward>)\n"
          ],
          "name": "stdout"
        }
      ]
    },
    {
      "cell_type": "code",
      "metadata": {
        "id": "B0p_CrVNSrsp",
        "colab_type": "code",
        "colab": {
          "base_uri": "https://localhost:8080/",
          "height": 568
        },
        "outputId": "a7731a41-e6c1-4d43-8fcf-230dd63c2090"
      },
      "source": [
        "## TODO: Train your model with dropout, and monitor the training progress with the validation loss and accuracy\n",
        "model = nn.Sequential(nn.Linear(784, 256),\n",
        "                      nn.Dropout(p=0.2),\n",
        "                      nn.ReLU(),\n",
        "                      nn.Linear(256, 128),\n",
        "                      nn.Dropout(p=0.2),\n",
        "                      nn.ReLU(),\n",
        "                      nn.Linear(128, 64),\n",
        "                      nn.Dropout(p=0.2),\n",
        "                      nn.ReLU(),\n",
        "                      nn.Linear(64, 10),\n",
        "                      nn.LogSoftmax(dim = 1))\n",
        "\n",
        "criterion = nn.NLLLoss()\n",
        "optimizer = optim.Adam(model.parameters(), lr=0.003)\n",
        "\n",
        "epochs = 30\n",
        "steps = 0\n",
        "\n",
        "train_losses, test_losses = [], []\n",
        "for e in range(epochs):\n",
        "    running_loss = 0\n",
        "    for images, labels in trainloader:\n",
        "      images = images.view(images.shape[0], -1)\n",
        "      \n",
        "      optimizer.zero_grad()\n",
        "      \n",
        "      log_ps = model(images)\n",
        "      loss = criterion(log_ps, labels)\n",
        "      loss.backward()\n",
        "      optimizer.step()\n",
        "      running_loss += loss.item()\n",
        "        \n",
        "    else:\n",
        "      test_loss = 0\n",
        "      accuracy = 0\n",
        "      \n",
        "      ## TODO: Implement the validation pass and print out the validation accuracy\n",
        "      with torch.no_grad():\n",
        "        model.eval()\n",
        "        \n",
        "        log_ps = model(images)\n",
        "        test_loss += criterion(log_ps, labels)\n",
        "        ps = torch.exp(log_ps)\n",
        "        \n",
        "        top_p, top_class = ps.topk(1, dim=1)\n",
        "        equals = top_class == labels.view(*top_class.shape)\n",
        "        accuracy = torch.mean(equals.type(torch.FloatTensor))\n",
        "      \n",
        "      model.train()\n",
        "      train_losses.append(running_loss/len(trainloader))\n",
        "      test_losses.append(test_loss/len(testloader))\n",
        "\n",
        "      print(\"Epoch: {}/{}.. \".format(e+1, epochs),\"Training Loss: {:.3f}.. \".format(running_loss/len(trainloader)),\n",
        "              \"Test Loss: {:.3f}.. \".format(test_loss/len(testloader)),f'Accuracy: {accuracy.item()*100}%')"
      ],
      "execution_count": 30,
      "outputs": [
        {
          "output_type": "stream",
          "text": [
            "Epoch: 1/30..  Training Loss: 0.604..  Test Loss: 0.002..  Accuracy: 93.75%\n",
            "Epoch: 2/30..  Training Loss: 0.476..  Test Loss: 0.003..  Accuracy: 81.25%\n",
            "Epoch: 3/30..  Training Loss: 0.447..  Test Loss: 0.003..  Accuracy: 84.375%\n",
            "Epoch: 4/30..  Training Loss: 0.437..  Test Loss: 0.001..  Accuracy: 96.875%\n",
            "Epoch: 5/30..  Training Loss: 0.418..  Test Loss: 0.001..  Accuracy: 100.0%\n",
            "Epoch: 6/30..  Training Loss: 0.415..  Test Loss: 0.002..  Accuracy: 87.5%\n",
            "Epoch: 7/30..  Training Loss: 0.402..  Test Loss: 0.003..  Accuracy: 75.0%\n",
            "Epoch: 8/30..  Training Loss: 0.394..  Test Loss: 0.001..  Accuracy: 90.625%\n",
            "Epoch: 9/30..  Training Loss: 0.391..  Test Loss: 0.001..  Accuracy: 96.875%\n",
            "Epoch: 10/30..  Training Loss: 0.385..  Test Loss: 0.002..  Accuracy: 87.5%\n",
            "Epoch: 11/30..  Training Loss: 0.382..  Test Loss: 0.002..  Accuracy: 90.625%\n",
            "Epoch: 12/30..  Training Loss: 0.377..  Test Loss: 0.002..  Accuracy: 90.625%\n",
            "Epoch: 13/30..  Training Loss: 0.368..  Test Loss: 0.004..  Accuracy: 84.375%\n",
            "Epoch: 14/30..  Training Loss: 0.370..  Test Loss: 0.001..  Accuracy: 100.0%\n",
            "Epoch: 15/30..  Training Loss: 0.373..  Test Loss: 0.001..  Accuracy: 90.625%\n",
            "Epoch: 16/30..  Training Loss: 0.362..  Test Loss: 0.002..  Accuracy: 90.625%\n",
            "Epoch: 17/30..  Training Loss: 0.369..  Test Loss: 0.001..  Accuracy: 96.875%\n",
            "Epoch: 18/30..  Training Loss: 0.365..  Test Loss: 0.001..  Accuracy: 90.625%\n",
            "Epoch: 19/30..  Training Loss: 0.359..  Test Loss: 0.001..  Accuracy: 93.75%\n",
            "Epoch: 20/30..  Training Loss: 0.351..  Test Loss: 0.001..  Accuracy: 100.0%\n",
            "Epoch: 21/30..  Training Loss: 0.359..  Test Loss: 0.002..  Accuracy: 90.625%\n",
            "Epoch: 22/30..  Training Loss: 0.347..  Test Loss: 0.002..  Accuracy: 90.625%\n",
            "Epoch: 23/30..  Training Loss: 0.351..  Test Loss: 0.001..  Accuracy: 90.625%\n",
            "Epoch: 24/30..  Training Loss: 0.353..  Test Loss: 0.001..  Accuracy: 90.625%\n",
            "Epoch: 25/30..  Training Loss: 0.342..  Test Loss: 0.002..  Accuracy: 93.75%\n",
            "Epoch: 26/30..  Training Loss: 0.341..  Test Loss: 0.001..  Accuracy: 96.875%\n",
            "Epoch: 27/30..  Training Loss: 0.347..  Test Loss: 0.001..  Accuracy: 87.5%\n",
            "Epoch: 28/30..  Training Loss: 0.345..  Test Loss: 0.003..  Accuracy: 87.5%\n",
            "Epoch: 29/30..  Training Loss: 0.355..  Test Loss: 0.003..  Accuracy: 84.375%\n",
            "Epoch: 30/30..  Training Loss: 0.341..  Test Loss: 0.002..  Accuracy: 87.5%\n"
          ],
          "name": "stdout"
        }
      ]
    },
    {
      "cell_type": "markdown",
      "metadata": {
        "id": "gkXgTUYMSrsu",
        "colab_type": "text"
      },
      "source": [
        "## Inference\n",
        "\n",
        "Now that the model is trained, we can use it for inference. We've done this before, but now we need to remember to set the model in inference mode with `model.eval()`. You'll also want to turn off autograd with the `torch.no_grad()` context."
      ]
    },
    {
      "cell_type": "code",
      "metadata": {
        "id": "T4U17so7Srsv",
        "colab_type": "code",
        "outputId": "afdfda13-f8ce-4f06-cdce-5bd4b9c4cbbe",
        "colab": {
          "base_uri": "https://localhost:8080/",
          "height": 233
        }
      },
      "source": [
        "# Import helper module (should be in the repo)\n",
        "import helper\n",
        "\n",
        "# Test out your network!\n",
        "\n",
        "model.eval()\n",
        "\n",
        "dataiter = iter(testloader)\n",
        "images, labels = dataiter.next()\n",
        "img = images[0]\n",
        "# Convert 2D image to 1D vector\n",
        "img = img.view(1, 784)\n",
        "\n",
        "# Calculate the class probabilities (softmax) for img\n",
        "with torch.no_grad():\n",
        "    output = model.forward(img)\n",
        "\n",
        "ps = torch.exp(output)\n",
        "\n",
        "# Plot the image and probabilities\n",
        "helper.view_classify(img.view(1, 28, 28), ps, version='Fashion')"
      ],
      "execution_count": 32,
      "outputs": [
        {
          "output_type": "display_data",
          "data": {
            "image/png": "[encoded data removed]",
            "text/plain": [
              "<Figure size 432x648 with 2 Axes>"
            ]
          },
          "metadata": {
            "tags": [],
            "image/png": {
              "width": 424,
              "height": 216
            }
          }
        }
      ]
    },
    {
      "cell_type": "markdown",
      "metadata": {
        "id": "NKlRJ4FXSrs1",
        "colab_type": "text"
      },
      "source": [
        "## Next Up!\n",
        "\n",
        "In the next part, I'll show you how to save your trained models. In general, you won't want to train a model everytime you need it. Instead, you'll train once, save it, then load the model when you want to train more or use if for inference."
      ]
    }
  ]
}