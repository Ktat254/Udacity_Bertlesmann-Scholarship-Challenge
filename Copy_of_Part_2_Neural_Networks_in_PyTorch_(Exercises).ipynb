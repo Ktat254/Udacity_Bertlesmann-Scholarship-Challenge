{
  "nbformat": 4,
  "nbformat_minor": 0,
  "metadata": {
    "kernelspec": {
      "name": "python3",
      "display_name": "Python 3"
    },
    "language_info": {
      "codemirror_mode": {
        "name": "ipython",
        "version": 3
      },
      "file_extension": ".py",
      "mimetype": "text/x-python",
      "name": "python",
      "nbconvert_exporter": "python",
      "pygments_lexer": "ipython3",
      "version": "3.6.4"
    },
    "colab": {
      "name": "Copy of Part 2 - Neural Networks in PyTorch (Exercises).ipynb",
      "provenance": [],
      "include_colab_link": true
    },
    "accelerator": "GPU"
  },
  "cells": [
    {
      "cell_type": "markdown",
      "metadata": {
        "id": "view-in-github",
        "colab_type": "text"
      },
      "source": [
        "<a href=\"https://colab.research.google.com/github/Ktat254/Udacity_Bertlesmann-Scholarship-Challenge/blob/master/Copy_of_Part_2_Neural_Networks_in_PyTorch_(Exercises).ipynb\" target=\"_parent\"><img src=\"https://colab.research.google.com/assets/colab-badge.svg\" alt=\"Open In Colab\"/></a>"
      ]
    },
    {
      "cell_type": "markdown",
      "metadata": {
        "id": "CU-XahKdjtad",
        "colab_type": "text"
      },
      "source": [
        "# Neural networks with PyTorch\n",
        "\n",
        "Deep learning networks tend to be massive with dozens or hundreds of layers, that's where the term \"deep\" comes from. You can build one of these deep networks using only weight matrices as we did in the previous notebook, but in general it's very cumbersome and difficult to implement. PyTorch has a nice module `nn` that provides a nice way to efficiently build large neural networks."
      ]
    },
    {
      "cell_type": "code",
      "metadata": {
        "id": "try4SDGijtan",
        "colab_type": "code",
        "outputId": "9cb22f23-0d2f-4609-bce4-8bc0e3b62669",
        "colab": {
          "base_uri": "https://localhost:8080/",
          "height": 219
        }
      },
      "source": [
        "# Import necessary packages\n",
        "!wget -c https://raw.githubusercontent.com/udacity/deep-learning-v2-pytorch/master/intro-to-pytorch/helper.py\n",
        "%matplotlib inline\n",
        "%config InlineBackend.figure_format = 'retina'\n",
        "\n",
        "import numpy as np\n",
        "import torch\n",
        "\n",
        "import helper\n",
        "\n",
        "import matplotlib.pyplot as plt"
      ],
      "execution_count": 0,
      "outputs": [
        {
          "output_type": "stream",
          "text": [
            "--2020-01-20 17:57:19--  https://raw.githubusercontent.com/udacity/deep-learning-v2-pytorch/master/intro-to-pytorch/helper.py\n",
            "Resolving raw.githubusercontent.com (raw.githubusercontent.com)... 151.101.0.133, 151.101.64.133, 151.101.128.133, ...\n",
            "Connecting to raw.githubusercontent.com (raw.githubusercontent.com)|151.101.0.133|:443... connected.\n",
            "HTTP request sent, awaiting response... 200 OK\n",
            "Length: 2813 (2.7K) [text/plain]\n",
            "Saving to: ‘helper.py’\n",
            "\n",
            "\rhelper.py             0%[                    ]       0  --.-KB/s               \rhelper.py           100%[===================>]   2.75K  --.-KB/s    in 0s      \n",
            "\n",
            "2020-01-20 17:57:19 (48.4 MB/s) - ‘helper.py’ saved [2813/2813]\n",
            "\n"
          ],
          "name": "stdout"
        }
      ]
    },
    {
      "cell_type": "markdown",
      "metadata": {
        "id": "LD_tOW_2jta2",
        "colab_type": "text"
      },
      "source": [
        "\n",
        "Now we're going to build a larger network that can solve a (formerly) difficult problem, identifying text in an image. Here we'll use the MNIST dataset which consists of greyscale handwritten digits. Each image is 28x28 pixels, you can see a sample below\n",
        "\n",
        "<img src='assets/mnist.png'>\n",
        "\n",
        "Our goal is to build a neural network that can take one of these images and predict the digit in the image.\n",
        "\n",
        "First up, we need to get our dataset. This is provided through the `torchvision` package. The code below will download the MNIST dataset, then create training and test datasets for us. Don't worry too much about the details here, you'll learn more about this later."
      ]
    },
    {
      "cell_type": "code",
      "metadata": {
        "id": "XqVDc71Tjta4",
        "colab_type": "code",
        "outputId": "e582d79c-e42e-4466-f229-d4217fdae65d",
        "colab": {
          "base_uri": "https://localhost:8080/",
          "height": 274
        }
      },
      "source": [
        "### Run this cell\n",
        "\n",
        "from torchvision import datasets, transforms\n",
        "\n",
        "# Define a transform to normalize the data\n",
        "transform = transforms.Compose([transforms.ToTensor(),\n",
        "                              transforms.Normalize((0.5,), (0.5,)),\n",
        "                              ])\n",
        "\n",
        "# Download and load the training data\n",
        "trainset = datasets.MNIST('~/.pytorch/MNIST_data/', download=True, train=True, transform=transform)\n",
        "trainloader = torch.utils.data.DataLoader(trainset, batch_size=64, shuffle=True)"
      ],
      "execution_count": 0,
      "outputs": [
        {
          "output_type": "stream",
          "text": [
            "\r0it [00:00, ?it/s]"
          ],
          "name": "stderr"
        },
        {
          "output_type": "stream",
          "text": [
            "Downloading http://yann.lecun.com/exdb/mnist/train-images-idx3-ubyte.gz to /root/.pytorch/MNIST_data/MNIST/raw/train-images-idx3-ubyte.gz\n"
          ],
          "name": "stdout"
        },
        {
          "output_type": "stream",
          "text": [
            "9920512it [00:02, 3417925.72it/s]                            \n"
          ],
          "name": "stderr"
        },
        {
          "output_type": "stream",
          "text": [
            "Extracting /root/.pytorch/MNIST_data/MNIST/raw/train-images-idx3-ubyte.gz to /root/.pytorch/MNIST_data/MNIST/raw\n"
          ],
          "name": "stdout"
        },
        {
          "output_type": "stream",
          "text": [
            "\r0it [00:00, ?it/s]"
          ],
          "name": "stderr"
        },
        {
          "output_type": "stream",
          "text": [
            "Downloading http://yann.lecun.com/exdb/mnist/train-labels-idx1-ubyte.gz to /root/.pytorch/MNIST_data/MNIST/raw/train-labels-idx1-ubyte.gz\n"
          ],
          "name": "stdout"
        },
        {
          "output_type": "stream",
          "text": [
            "32768it [00:00, 48766.48it/s]                           \n",
            "0it [00:00, ?it/s]"
          ],
          "name": "stderr"
        },
        {
          "output_type": "stream",
          "text": [
            "Extracting /root/.pytorch/MNIST_data/MNIST/raw/train-labels-idx1-ubyte.gz to /root/.pytorch/MNIST_data/MNIST/raw\n",
            "Downloading http://yann.lecun.com/exdb/mnist/t10k-images-idx3-ubyte.gz to /root/.pytorch/MNIST_data/MNIST/raw/t10k-images-idx3-ubyte.gz\n"
          ],
          "name": "stdout"
        },
        {
          "output_type": "stream",
          "text": [
            "1654784it [00:02, 807671.81it/s]                             \n",
            "0it [00:00, ?it/s]"
          ],
          "name": "stderr"
        },
        {
          "output_type": "stream",
          "text": [
            "Extracting /root/.pytorch/MNIST_data/MNIST/raw/t10k-images-idx3-ubyte.gz to /root/.pytorch/MNIST_data/MNIST/raw\n",
            "Downloading http://yann.lecun.com/exdb/mnist/t10k-labels-idx1-ubyte.gz to /root/.pytorch/MNIST_data/MNIST/raw/t10k-labels-idx1-ubyte.gz\n"
          ],
          "name": "stdout"
        },
        {
          "output_type": "stream",
          "text": [
            "8192it [00:00, 18410.29it/s]            "
          ],
          "name": "stderr"
        },
        {
          "output_type": "stream",
          "text": [
            "Extracting /root/.pytorch/MNIST_data/MNIST/raw/t10k-labels-idx1-ubyte.gz to /root/.pytorch/MNIST_data/MNIST/raw\n",
            "Processing...\n",
            "Done!\n"
          ],
          "name": "stdout"
        },
        {
          "output_type": "stream",
          "text": [
            "\n"
          ],
          "name": "stderr"
        }
      ]
    },
    {
      "cell_type": "markdown",
      "metadata": {
        "id": "9TVg3ywEjtbD",
        "colab_type": "text"
      },
      "source": [
        "We have the training data loaded into `trainloader` and we make that an iterator with `iter(trainloader)`. Later, we'll use this to loop through the dataset for training, like\n",
        "\n",
        "```python\n",
        "for image, label in trainloader:\n",
        "    ## do things with images and labels\n",
        "```\n",
        "\n",
        "You'll notice I created the `trainloader` with a batch size of 64, and `shuffle=True`. The batch size is the number of images we get in one iteration from the data loader and pass through our network, often called a *batch*. And `shuffle=True` tells it to shuffle the dataset every time we start going through the data loader again. But here I'm just grabbing the first batch so we can check out the data. We can see below that `images` is just a tensor with size `(64, 1, 28, 28)`. So, 64 images per batch, 1 color channel, and 28x28 images."
      ]
    },
    {
      "cell_type": "code",
      "metadata": {
        "id": "oo8BGHXdjtbG",
        "colab_type": "code",
        "outputId": "3cdba66b-9af2-4e25-a020-4c7e8a3ad4ef",
        "colab": {
          "base_uri": "https://localhost:8080/",
          "height": 72
        }
      },
      "source": [
        "dataiter = iter(trainloader)\n",
        "images, labels = dataiter.next()\n",
        "print(type(images))\n",
        "print(images.shape)\n",
        "print(labels.shape)"
      ],
      "execution_count": 0,
      "outputs": [
        {
          "output_type": "stream",
          "text": [
            "<class 'torch.Tensor'>\n",
            "torch.Size([64, 1, 28, 28])\n",
            "torch.Size([64])\n"
          ],
          "name": "stdout"
        }
      ]
    },
    {
      "cell_type": "markdown",
      "metadata": {
        "id": "qKCIWl-GjtbO",
        "colab_type": "text"
      },
      "source": [
        "This is what one of the images looks like. "
      ]
    },
    {
      "cell_type": "code",
      "metadata": {
        "id": "9mY92380jtbS",
        "colab_type": "code",
        "outputId": "68fbd3f9-699e-4335-f054-09a696b90421",
        "colab": {
          "base_uri": "https://localhost:8080/",
          "height": 265
        }
      },
      "source": [
        "plt.imshow(images[1].numpy().squeeze(), cmap='Greys_r');"
      ],
      "execution_count": 0,
      "outputs": [
        {
          "output_type": "display_data",
          "data": {
            "image/png": "[encoded data removed]",
            "text/plain": [
              "<Figure size 432x288 with 1 Axes>"
            ]
          },
          "metadata": {
            "tags": [],
            "image/png": {
              "width": 251,
              "height": 248
            }
          }
        }
      ]
    },
    {
      "cell_type": "markdown",
      "metadata": {
        "id": "nRKsLbHPjtbZ",
        "colab_type": "text"
      },
      "source": [
        "First, let's try to build a simple network for this dataset using weight matrices and matrix multiplications. Then, we'll see how to do it using PyTorch's `nn` module which provides a much more convenient and powerful method for defining network architectures.\n",
        "\n",
        "The networks you've seen so far are called *fully-connected* or *dense* networks. Each unit in one layer is connected to each unit in the next layer. In fully-connected networks, the input to each layer must be a one-dimensional vector (which can be stacked into a 2D tensor as a batch of multiple examples). However, our images are 28x28 2D tensors, so we need to convert them into 1D vectors. Thinking about sizes, we need to convert the batch of images with shape `(64, 1, 28, 28)` to a have a shape of `(64, 784)`, 784 is 28 times 28. This is typically called *flattening*, we flattened the 2D images into 1D vectors.\n",
        "\n",
        "Previously you built a network with one output unit. Here we need 10 output units, one for each digit. We want our network to predict the digit shown in an image, so what we'll do is calculate probabilities that the image is of any one digit or class. This ends up being a discrete probability distribution over the classes (digits) that tells us the most likely class for the image. That means we need 10 output units for the 10 classes (digits). We'll see how to convert the network output into a probability distribution next.\n",
        "\n",
        "> **Exercise:** Flatten the batch of images `images`. Then build a multi-layer network with 784 input units, 256 hidden units, and 10 output units using random tensors for the weights and biases. For now, use a sigmoid activation for the hidden layer. Leave the output layer without an activation, we'll add one that gives us a probability distribution next."
      ]
    },
    {
      "cell_type": "code",
      "metadata": {
        "id": "Pj17VjmIjtbb",
        "colab_type": "code",
        "outputId": "6cc0d446-4d83-491c-9f39-457218e27cb8",
        "colab": {
          "base_uri": "https://localhost:8080/",
          "height": 1000
        }
      },
      "source": [
        "## Your solution\n",
        "def activation(x):\n",
        "    return 1/(1+torch.exp(-x))\n",
        "# Flattening images\n",
        "images = images.view(64,784)\n",
        "\n",
        "# Weights and bias - Hidden Layer\n",
        "W1 = torch.randn(784, 256)\n",
        "B1 = torch.randn((1, 256))\n",
        "\n",
        "# Weights and bias - Output Layer\n",
        "W2 = torch.randn(256, 10)\n",
        "B2 = torch.randn((1, 10))  \n",
        "\n",
        "h = activation(torch.mm(images, W1) + B1)\n",
        "y = torch.mm(h,W2) + B2\n",
        "print(y.shape)\n",
        "print (y)\n",
        "\n",
        "# output of your network, should have shape (64,10)"
      ],
      "execution_count": 0,
      "outputs": [
        {
          "output_type": "stream",
          "text": [
            "torch.Size([64, 10])\n",
            "tensor([[ -8.5574, -16.9343,  -4.6795,  15.7161, -15.5115,  -3.7995,  -3.2588,\n",
            "          -6.1412,   1.7341,  14.2330],\n",
            "        [ -0.7405, -23.5008,  -6.8799,  12.8735, -19.7826, -16.0144,  -0.8568,\n",
            "          -2.9953,  -5.3125,  10.9765],\n",
            "        [ -9.6197, -11.8684,  -2.6918,   0.2834, -12.2435,  -7.0848,  -8.0963,\n",
            "           5.7168,  -1.8065,   4.5524],\n",
            "        [ -0.6697, -17.5799,  -9.0594,   3.7701, -10.8493,  -7.0187,  -9.1420,\n",
            "         -13.6673,  -8.3898,  17.8663],\n",
            "        [ -3.5952,  -7.6860,  -2.7448,  11.8903, -15.7901,  -8.4890,  -4.0445,\n",
            "          -7.1612,  -2.0227,  17.2618],\n",
            "        [ -3.2421, -21.1102,  -7.4802,   3.9792,  -8.7980, -14.6005,   1.8228,\n",
            "          -9.9652,  -1.1496,  14.0095],\n",
            "        [-11.8990, -10.3107,  -0.2142,  14.5976,  -5.0226,  -4.2984,   3.6838,\n",
            "          -3.1968,   8.4483,  13.6058],\n",
            "        [-10.2812, -11.0457,  -7.4582,   6.6028, -10.5489, -14.6862,  -6.2523,\n",
            "          -0.9811,  -4.2781,  18.8663],\n",
            "        [ -3.0693, -15.7957,  -9.5193,   3.9993, -11.6277,  -6.9077,  -4.2632,\n",
            "          -7.4457, -10.4957,  14.4599],\n",
            "        [-10.3538, -18.5565,  -7.6463,  11.2298, -20.3911,  -8.5705,  -8.0436,\n",
            "          -6.5354, -12.4854,  11.0064],\n",
            "        [ -3.3556, -14.0801, -12.0691,  12.4950, -19.2384,  -5.1524,   4.4761,\n",
            "          -2.8915,   1.9677,  15.3830],\n",
            "        [ -8.8241, -16.1967,   4.7071,   0.9147, -14.6833,  -8.5701,  -4.2667,\n",
            "          -8.2896,  -4.8995,  17.0297],\n",
            "        [ -3.0879, -27.9192,  -0.8201,   2.5220,  -7.5884, -11.6231,  -3.6773,\n",
            "          -7.8735,   1.5030,   7.7603],\n",
            "        [ -8.2498, -11.3548, -13.7676,   5.8887, -12.3950, -14.5515,  -3.5601,\n",
            "         -12.0474,  -0.5444,  16.6248],\n",
            "        [-14.6062, -11.7772,  -4.4640,  -2.9366,  -5.3216, -12.5415, -12.8533,\n",
            "          -1.9726,  -1.3140,   2.7944],\n",
            "        [ -6.8781, -17.6952, -11.7768,  10.8886,  -8.4216, -16.4063,   9.1504,\n",
            "          -7.9773,  -2.7247,  17.0090],\n",
            "        [ -6.5227, -24.3187, -10.7273,  -5.1404, -19.9705,   9.7973,  -1.6787,\n",
            "           0.3378,   6.1502,   2.1350],\n",
            "        [ -6.3072, -15.7338,   1.3925,  12.0382, -20.1245,  -4.2780,  -0.7682,\n",
            "           0.2920,  -0.1304,  14.2064],\n",
            "        [ -7.1965, -17.3662, -18.1598,   8.5252, -20.3009,  -8.8477,   1.3950,\n",
            "          -7.7010, -14.8471,  14.3714],\n",
            "        [ -1.3062, -14.0928,  -7.7895,  15.3518, -12.7062,  -5.1158,  -9.6093,\n",
            "          -7.2296,   4.7287,  20.3909],\n",
            "        [ -4.8202, -14.4651,  -7.5431,   8.5798, -12.9912,  -7.2382, -11.8204,\n",
            "          -1.3377,  -0.8496,   6.3112],\n",
            "        [ -1.5417, -16.7343,  -0.5235,   0.6208, -12.6868,  -2.7416,  -3.8974,\n",
            "          -7.8348,  -3.1153,   5.1582],\n",
            "        [ -3.1212, -16.6070,  -3.3199,  14.6939, -19.7922,   1.4946,   4.3670,\n",
            "          -3.9847,  -1.5742,  13.9065],\n",
            "        [  7.4480, -20.0432,  -2.7403,   0.7301, -13.2626, -13.1216,   0.9373,\n",
            "          -9.6931,  -7.8638,  14.5029],\n",
            "        [ -0.3562, -15.8302,  -2.6878,   9.8925,  -7.9548,  -6.9307, -14.7167,\n",
            "          -3.4090,  -3.9712,  12.0705],\n",
            "        [ -1.9653, -20.8657,  -4.1230,   9.2185,  -9.1559,  -9.3549, -11.4088,\n",
            "          -5.4317,  -3.0609,  13.1962],\n",
            "        [ -4.7445, -14.7607,  -8.3199,  12.2160, -18.8925,  -6.9812,  -5.3200,\n",
            "          -0.2302,  -7.1092,  13.9818],\n",
            "        [ -1.7375,  -9.9127, -11.6926,   2.9077,  -8.1205, -17.6989,   2.5871,\n",
            "         -11.4325, -14.8357,  14.9657],\n",
            "        [ -6.8548, -16.1825,  -5.9714,  14.1632, -19.4729,  -2.4574,   7.5408,\n",
            "          -6.7659,  -4.2049,  12.0296],\n",
            "        [ -1.6258, -22.4908,  -9.8871,   5.4622, -16.8432,  -3.0871,   8.8483,\n",
            "          -4.0702,  -2.3641,  11.7829],\n",
            "        [  2.1206, -18.1176,  -3.8386,   8.5947,  -8.4974,  -7.6616,  -4.6729,\n",
            "          -3.5708,   0.8035,   9.2810],\n",
            "        [  5.4479, -13.7080, -12.4883,   7.4451, -10.1044,  -4.4353,   0.2827,\n",
            "         -10.9949,   1.3453,  10.2531],\n",
            "        [ -1.8048, -19.7118,  -4.1525,   9.6000, -12.4936,  -0.3812,   8.8216,\n",
            "          -5.0680,   2.2721,  10.2720],\n",
            "        [-19.0897, -20.3212, -11.0474,   3.4460, -15.6292,  -6.9061,  -7.7401,\n",
            "          -3.8237,  -4.3059,  19.8522],\n",
            "        [ -2.8520, -15.8427,  -6.5117,  12.3854, -17.5784,  -8.9890, -10.2930,\n",
            "         -12.0004,  -6.6617,  13.0674],\n",
            "        [ -4.2714, -11.2708,   2.5820,   9.6953,  -8.6945,  -3.6091,   7.5207,\n",
            "          -2.7757,   7.5703,  11.0562],\n",
            "        [ -3.6405, -23.7080,   7.2482,  -1.4930, -12.4166, -12.2251,  -9.8096,\n",
            "          -1.4957,  -1.1377,   8.4168],\n",
            "        [  2.2113, -18.6163,  -5.5741,   5.1977, -15.9830, -10.8515,  -4.7918,\n",
            "          -7.8166,   2.0800,  10.9054],\n",
            "        [-15.0705, -21.0673,   8.3982,   5.9332,  -4.7792,  -7.4931,   2.8121,\n",
            "          -8.6879,  -0.9327,   7.6136],\n",
            "        [ -6.3422, -15.0290,  -2.2396,   8.4044,  -8.5175,  -4.0109,   5.3273,\n",
            "           0.5013,  -5.4986,  11.1121],\n",
            "        [ -5.3359, -25.7976, -17.2027,  10.8654,  -9.9423,  -3.2466,   4.1460,\n",
            "          -2.6366,   3.7992,   9.1554],\n",
            "        [ -6.9122, -18.8741,  -7.0453,  12.7911, -13.8421,  -4.1059,   0.2028,\n",
            "          -6.8265,   5.1488,   3.2304],\n",
            "        [ -3.2886, -18.7127,   1.3128,   6.4923,  -5.1099, -16.9039,  16.0341,\n",
            "         -12.9621,  -6.4709,   2.0572],\n",
            "        [ -0.8756, -20.1304, -11.6155,   5.0363, -12.1829,  -8.6862,   5.0446,\n",
            "          -6.9008,   4.5628,  16.3041],\n",
            "        [ -8.7174, -14.3532, -10.8818,   5.3078, -16.2867,  -6.0789,   6.4005,\n",
            "           2.1923,  -0.0279,  10.8433],\n",
            "        [ -3.8311, -17.2611,  -4.3020,   2.0956, -12.9168, -14.9806,  -9.3998,\n",
            "         -10.4787, -13.7443,  12.7618],\n",
            "        [ -1.3717,  -6.0175,  -3.2534,   3.2676,  -5.5441, -13.3818,  -0.1570,\n",
            "          -0.1372,  -0.7892,  13.6573],\n",
            "        [-10.4303, -20.2975,  -5.2050,  -1.0435, -23.3063,  -6.3969, -15.2423,\n",
            "         -16.6585,  -8.9090,   3.2496],\n",
            "        [ -6.9508,  -9.5750,  -5.1579,  17.9961, -26.0602,  -0.8730,  -4.4318,\n",
            "         -23.4463,  -6.7779,  14.4625],\n",
            "        [ -5.0116, -13.3705, -10.0634,   1.5968, -16.1037, -16.1628,   0.2204,\n",
            "         -11.3689, -13.2447,  10.8329],\n",
            "        [  0.5320, -16.8088,  -7.4455,   8.0613, -16.6785, -20.2556,  -5.7598,\n",
            "          -2.2945, -11.8080,   5.7588],\n",
            "        [ -2.1619, -12.8961,  -9.4385,  12.8063,  -7.4873,  -0.8242,  -5.1273,\n",
            "          -5.1456, -11.1165,  -8.7429],\n",
            "        [-15.2853, -13.2190,  -5.6922,   7.4639, -16.2828,  -3.3109,   3.2663,\n",
            "           6.9833,  10.0096,  11.4255],\n",
            "        [-10.6200, -18.2886,  -7.3003,   5.2730, -21.1834,   2.8413,  -5.7967,\n",
            "          -7.6050,   4.3646,  17.5528],\n",
            "        [ -2.5088, -20.1310,   4.2266,   4.7109,  -7.7512, -11.2071,  -4.2707,\n",
            "          -6.9004,  -6.4799,  18.4850],\n",
            "        [ -0.1201, -12.8386,  -7.0251,   4.6521, -17.6913,   1.5769,  -3.6271,\n",
            "          -5.0794, -10.1485,  11.0780],\n",
            "        [ -2.7702, -14.5713,  -3.0662,   7.3287,  -9.2099,   2.0181,  -0.2866,\n",
            "          -6.6702,  -5.7924,  12.0058],\n",
            "        [ -4.2855, -24.3675,  -5.2533,   4.2304, -13.4587,   4.8857,  -5.3710,\n",
            "          -1.9787,   7.3247,   5.8291],\n",
            "        [ -1.7508, -16.4077, -18.0946,  10.4923,  -9.7408,  -4.9689, -12.6661,\n",
            "          -5.7285,  -6.6234,   2.8060],\n",
            "        [ -4.0316, -21.4766,  -1.5098,  -2.6406, -18.3992,  -8.2029, -15.1709,\n",
            "          -2.7586,  -5.7401,   9.1553],\n",
            "        [ -4.7051, -15.1213,  -8.9691,   9.8765,  -7.7827,  -4.6472,  -4.4575,\n",
            "          -5.3129,   4.5599,  17.0100],\n",
            "        [ -6.6130, -15.5188, -13.3170,   9.7259, -13.9220, -10.2584,  -4.6288,\n",
            "          -4.1128,   0.3550,   1.9343],\n",
            "        [ -5.5186, -14.3724,  -8.7513,   4.2465, -14.2391,  -7.9372,  -9.5010,\n",
            "           3.4880,  -0.5387,   9.1823],\n",
            "        [ -4.4593,  -7.8896,  -4.0644,  -0.2140, -13.5052,   0.5523,  -5.3561,\n",
            "          -4.2088,  -3.1737,   3.2438]])\n"
          ],
          "name": "stdout"
        }
      ]
    },
    {
      "cell_type": "markdown",
      "metadata": {
        "id": "vl4xHbTujtbj",
        "colab_type": "text"
      },
      "source": [
        "Now we have 10 outputs for our network. We want to pass in an image to our network and get out a probability distribution over the classes that tells us the likely class(es) the image belongs to. Something that looks like this:\n",
        "<img src='assets/image_distribution.png' width=500px>\n",
        "\n",
        "Here we see that the probability for each class is roughly the same. This is representing an untrained network, it hasn't seen any data yet so it just returns a uniform distribution with equal probabilities for each class.\n",
        "\n",
        "To calculate this probability distribution, we often use the [**softmax** function](https://en.wikipedia.org/wiki/Softmax_function). Mathematically this looks like\n",
        "\n",
        "$$\n",
        "\\Large \\sigma(x_i) = \\cfrac{e^{x_i}}{\\sum_k^K{e^{x_k}}}\n",
        "$$\n",
        "\n",
        "What this does is squish each input $x_i$ between 0 and 1 and normalizes the values to give you a proper probability distribution where the probabilites sum up to one.\n",
        "\n",
        "> **Exercise:** Implement a function `softmax` that performs the softmax calculation and returns probability distributions for each example in the batch. Note that you'll need to pay attention to the shapes when doing this. If you have a tensor `a` with shape `(64, 10)` and a tensor `b` with shape `(64,)`, doing `a/b` will give you an error because PyTorch will try to do the division across the columns (called broadcasting) but you'll get a size mismatch. The way to think about this is for each of the 64 examples, you only want to divide by one value, the sum in the denominator. So you need `b` to have a shape of `(64, 1)`. This way PyTorch will divide the 10 values in each row of `a` by the one value in each row of `b`. Pay attention to how you take the sum as well. You'll need to define the `dim` keyword in `torch.sum`. Setting `dim=0` takes the sum across the rows while `dim=1` takes the sum across the columns."
      ]
    },
    {
      "cell_type": "code",
      "metadata": {
        "id": "U4KPITDKjtbm",
        "colab_type": "code",
        "outputId": "abf8ecdb-6527-4323-e026-4040767cd5d1",
        "colab": {
          "base_uri": "https://localhost:8080/",
          "height": 182
        }
      },
      "source": [
        "def softmax(x):\n",
        "  return torch.exp(x)/torch.sum(torch.exp(x), dim = 1).view(64,1)\n",
        "\n",
        "# Here, out should be the output of the network in the previous excercise with shape (64,10)\n",
        "probabilities = softmax(y)\n",
        "\n",
        "# Does it have the right shape? Should be (64, 10)\n",
        "print(probabilities.shape)\n",
        "# Does it sum to 1?\n",
        "print(probabilities.sum(dim=1))"
      ],
      "execution_count": 0,
      "outputs": [
        {
          "output_type": "stream",
          "text": [
            "torch.Size([64, 10])\n",
            "tensor([1.0000, 1.0000, 1.0000, 1.0000, 1.0000, 1.0000, 1.0000, 1.0000, 1.0000,\n",
            "        1.0000, 1.0000, 1.0000, 1.0000, 1.0000, 1.0000, 1.0000, 1.0000, 1.0000,\n",
            "        1.0000, 1.0000, 1.0000, 1.0000, 1.0000, 1.0000, 1.0000, 1.0000, 1.0000,\n",
            "        1.0000, 1.0000, 1.0000, 1.0000, 1.0000, 1.0000, 1.0000, 1.0000, 1.0000,\n",
            "        1.0000, 1.0000, 1.0000, 1.0000, 1.0000, 1.0000, 1.0000, 1.0000, 1.0000,\n",
            "        1.0000, 1.0000, 1.0000, 1.0000, 1.0000, 1.0000, 1.0000, 1.0000, 1.0000,\n",
            "        1.0000, 1.0000, 1.0000, 1.0000, 1.0000, 1.0000, 1.0000, 1.0000, 1.0000,\n",
            "        1.0000])\n"
          ],
          "name": "stdout"
        }
      ]
    },
    {
      "cell_type": "markdown",
      "metadata": {
        "id": "VOoiwZKJjtbu",
        "colab_type": "text"
      },
      "source": [
        "## Building networks with PyTorch\n",
        "\n",
        "PyTorch provides a module `nn` that makes building networks much simpler. Here I'll show you how to build the same one as above with 784 inputs, 256 hidden units, 10 output units and a softmax output."
      ]
    },
    {
      "cell_type": "code",
      "metadata": {
        "id": "9SQvsBn_jtbx",
        "colab_type": "code",
        "colab": {}
      },
      "source": [
        "from torch import nn"
      ],
      "execution_count": 0,
      "outputs": []
    },
    {
      "cell_type": "code",
      "metadata": {
        "id": "vKeBTCg4jtb5",
        "colab_type": "code",
        "colab": {}
      },
      "source": [
        "class Network(nn.Module):\n",
        "    def __init__(self):\n",
        "        super().__init__()\n",
        "        \n",
        "        # Inputs to hidden layer linear transformation\n",
        "        self.hidden = nn.Linear(784, 256)\n",
        "        # Output layer, 10 units - one for each digit\n",
        "        self.output = nn.Linear(256, 10)\n",
        "        \n",
        "        # Define sigmoid activation and softmax output \n",
        "        self.sigmoid = nn.Sigmoid()\n",
        "        self.softmax = nn.Softmax(dim=1)\n",
        "        \n",
        "    def forward(self, x):\n",
        "        # Pass the input tensor through each of our operations\n",
        "        x = self.hidden(x)\n",
        "        x = self.sigmoid(x)\n",
        "        x = self.output(x)\n",
        "        x = self.softmax(x)\n",
        "        \n",
        "        return x"
      ],
      "execution_count": 0,
      "outputs": []
    },
    {
      "cell_type": "markdown",
      "metadata": {
        "id": "ERzhTV7rjtcD",
        "colab_type": "text"
      },
      "source": [
        "Let's go through this bit by bit.\n",
        "\n",
        "```python\n",
        "class Network(nn.Module):\n",
        "```\n",
        "\n",
        "Here we're inheriting from `nn.Module`. Combined with `super().__init__()` this creates a class that tracks the architecture and provides a lot of useful methods and attributes. It is mandatory to inherit from `nn.Module` when you're creating a class for your network. The name of the class itself can be anything.\n",
        "\n",
        "```python\n",
        "self.hidden = nn.Linear(784, 256)\n",
        "```\n",
        "\n",
        "This line creates a module for a linear transformation, $x\\mathbf{W} + b$, with 784 inputs and 256 outputs and assigns it to `self.hidden`. The module automatically creates the weight and bias tensors which we'll use in the `forward` method. You can access the weight and bias tensors once the network (`net`) is created with `net.hidden.weight` and `net.hidden.bias`.\n",
        "\n",
        "```python\n",
        "self.output = nn.Linear(256, 10)\n",
        "```\n",
        "\n",
        "Similarly, this creates another linear transformation with 256 inputs and 10 outputs.\n",
        "\n",
        "```python\n",
        "self.sigmoid = nn.Sigmoid()\n",
        "self.softmax = nn.Softmax(dim=1)\n",
        "```\n",
        "\n",
        "Here I defined operations for the sigmoid activation and softmax output. Setting `dim=1` in `nn.Softmax(dim=1)` calculates softmax across the columns.\n",
        "\n",
        "```python\n",
        "def forward(self, x):\n",
        "```\n",
        "\n",
        "PyTorch networks created with `nn.Module` must have a `forward` method defined. It takes in a tensor `x` and passes it through the operations you defined in the `__init__` method.\n",
        "\n",
        "```python\n",
        "x = self.hidden(x)\n",
        "x = self.sigmoid(x)\n",
        "x = self.output(x)\n",
        "x = self.softmax(x)\n",
        "```\n",
        "\n",
        "Here the input tensor `x` is passed through each operation and reassigned to `x`. We can see that the input tensor goes through the hidden layer, then a sigmoid function, then the output layer, and finally the softmax function. It doesn't matter what you name the variables here, as long as the inputs and outputs of the operations match the network architecture you want to build. The order in which you define things in the `__init__` method doesn't matter, but you'll need to sequence the operations correctly in the `forward` method.\n",
        "\n",
        "Now we can create a `Network` object."
      ]
    },
    {
      "cell_type": "code",
      "metadata": {
        "id": "42InxNxPjtcH",
        "colab_type": "code",
        "outputId": "8330672e-06bb-4373-d37f-0b21946077cb",
        "colab": {
          "base_uri": "https://localhost:8080/",
          "height": 127
        }
      },
      "source": [
        "# Create the network and look at it's text representation\n",
        "model = Network()\n",
        "model"
      ],
      "execution_count": 0,
      "outputs": [
        {
          "output_type": "execute_result",
          "data": {
            "text/plain": [
              "Network(\n",
              "  (hidden): Linear(in_features=784, out_features=256, bias=True)\n",
              "  (output): Linear(in_features=256, out_features=10, bias=True)\n",
              "  (sigmoid): Sigmoid()\n",
              "  (softmax): Softmax(dim=1)\n",
              ")"
            ]
          },
          "metadata": {
            "tags": []
          },
          "execution_count": 9
        }
      ]
    },
    {
      "cell_type": "markdown",
      "metadata": {
        "id": "pP3A3T2GjtcM",
        "colab_type": "text"
      },
      "source": [
        "You can define the network somewhat more concisely and clearly using the `torch.nn.functional` module. This is the most common way you'll see networks defined as many operations are simple element-wise functions. We normally import this module as `F`, `import torch.nn.functional as F`."
      ]
    },
    {
      "cell_type": "code",
      "metadata": {
        "id": "MjcdQy_gjtcO",
        "colab_type": "code",
        "colab": {}
      },
      "source": [
        "import torch.nn.functional as F\n",
        "\n",
        "class Network(nn.Module):\n",
        "    def __init__(self):\n",
        "        super().__init__()\n",
        "        # Inputs to hidden layer linear transformation\n",
        "        self.hidden = nn.Linear(784, 256)\n",
        "        # Output layer, 10 units - one for each digit\n",
        "        self.output = nn.Linear(256, 10)\n",
        "        \n",
        "    def forward(self, x):\n",
        "        # Hidden layer with sigmoid activation\n",
        "        x = F.sigmoid(self.hidden(x))\n",
        "        # Output layer with softmax activation\n",
        "        x = F.softmax(self.output(x), dim=1)\n",
        "        \n",
        "        return x"
      ],
      "execution_count": 0,
      "outputs": []
    },
    {
      "cell_type": "markdown",
      "metadata": {
        "id": "xDqrdXh-jtcU",
        "colab_type": "text"
      },
      "source": [
        "### Activation functions\n",
        "\n",
        "So far we've only been looking at the sigmoid activation function, but in general any function can be used as an activation function. The only requirement is that for a network to approximate a non-linear function, the activation functions must be non-linear. Here are a few more examples of common activation functions: Tanh (hyperbolic tangent), and ReLU (rectified linear unit).\n",
        "\n",
        "<img src=\"assets/activation.png\" width=700px>\n",
        "\n",
        "In practice, the ReLU function is used almost exclusively as the activation function for hidden layers."
      ]
    },
    {
      "cell_type": "markdown",
      "metadata": {
        "id": "0lNGbdqpjtcX",
        "colab_type": "text"
      },
      "source": [
        "### Your Turn to Build a Network\n",
        "\n",
        "<img src=\"assets/mlp_mnist.png\" width=600px>\n",
        "\n",
        "> **Exercise:** Create a network with 784 input units, a hidden layer with 128 units and a ReLU activation, then a hidden layer with 64 units and a ReLU activation, and finally an output layer with a softmax activation as shown above. You can use a ReLU activation with the `nn.ReLU` module or `F.relu` function.\n",
        "\n",
        "It's good practice to name your layers by their type of network, for instance 'fc' to represent a fully-connected layer. As you code your solution, use `fc1`, `fc2`, and `fc3` as your layer names."
      ]
    },
    {
      "cell_type": "code",
      "metadata": {
        "scrolled": true,
        "id": "1L1SpAkNjtcZ",
        "colab_type": "code",
        "outputId": "f69657a0-a467-4e47-c3ff-5f67a1b3c308",
        "colab": {
          "base_uri": "https://localhost:8080/",
          "height": 109
        }
      },
      "source": [
        "## Your solution here\n",
        "import torch.nn.functional as F\n",
        "\n",
        "class Network(nn.Module):\n",
        "    def __init__(self):\n",
        "        super().__init__()\n",
        "    # Hidden Layers\n",
        "        self.fc1 = nn.Linear(784, 128)\n",
        "        self.fc2 = nn.Linear(128,64)\n",
        "        \n",
        "    # Output Layer\n",
        "        self.fc3 = nn.Linear(64, 10)\n",
        "        \n",
        "    def forward(self, x):\n",
        "\n",
        "        x = self.fc1(x)\n",
        "        x = F.relu(x)        \n",
        "        x = self.fc2(x)\n",
        "        x = F.relu(x)\n",
        "        x = self.fc3(x)\n",
        "        x = F.softmax(x, dim=1)\n",
        "        \n",
        "        return x\n",
        "        \n",
        "model = Network()\n",
        "model\n"
      ],
      "execution_count": 0,
      "outputs": [
        {
          "output_type": "execute_result",
          "data": {
            "text/plain": [
              "Network(\n",
              "  (fc1): Linear(in_features=784, out_features=128, bias=True)\n",
              "  (fc2): Linear(in_features=128, out_features=64, bias=True)\n",
              "  (fc3): Linear(in_features=64, out_features=10, bias=True)\n",
              ")"
            ]
          },
          "metadata": {
            "tags": []
          },
          "execution_count": 11
        }
      ]
    },
    {
      "cell_type": "markdown",
      "metadata": {
        "id": "mF2VFJOujtcf",
        "colab_type": "text"
      },
      "source": [
        "### Initializing weights and biases\n",
        "\n",
        "The weights and such are automatically initialized for you, but it's possible to customize how they are initialized. The weights and biases are tensors attached to the layer you defined, you can get them with `model.fc1.weight` for instance."
      ]
    },
    {
      "cell_type": "code",
      "metadata": {
        "id": "IXB9BHWSjtch",
        "colab_type": "code",
        "outputId": "ef51dfb3-2133-48f4-889e-36928931da0f",
        "colab": {
          "base_uri": "https://localhost:8080/",
          "height": 513
        }
      },
      "source": [
        "print(model.fc1.weight)\n",
        "print(model.fc1.bias)"
      ],
      "execution_count": 0,
      "outputs": [
        {
          "output_type": "stream",
          "text": [
            "Parameter containing:\n",
            "tensor([[-0.0330, -0.0131,  0.0349,  ...,  0.0301,  0.0340,  0.0312],\n",
            "        [-0.0028, -0.0003,  0.0016,  ..., -0.0125,  0.0063, -0.0297],\n",
            "        [-0.0003, -0.0053, -0.0311,  ..., -0.0126,  0.0101, -0.0243],\n",
            "        ...,\n",
            "        [-0.0272,  0.0185,  0.0085,  ..., -0.0187, -0.0166,  0.0189],\n",
            "        [-0.0225, -0.0186, -0.0265,  ...,  0.0054,  0.0112,  0.0043],\n",
            "        [-0.0182,  0.0128, -0.0082,  ..., -0.0336,  0.0155, -0.0038]],\n",
            "       requires_grad=True)\n",
            "Parameter containing:\n",
            "tensor([ 0.0122, -0.0031,  0.0047, -0.0180,  0.0284,  0.0049, -0.0311,  0.0156,\n",
            "        -0.0249, -0.0254, -0.0141, -0.0271, -0.0273,  0.0343, -0.0239,  0.0244,\n",
            "        -0.0207, -0.0132, -0.0087,  0.0333, -0.0233,  0.0183, -0.0145,  0.0236,\n",
            "         0.0054,  0.0153, -0.0280,  0.0087, -0.0233, -0.0357, -0.0213,  0.0118,\n",
            "         0.0065, -0.0030, -0.0348, -0.0147,  0.0224, -0.0311,  0.0293,  0.0345,\n",
            "        -0.0262,  0.0301,  0.0203, -0.0292, -0.0012, -0.0198,  0.0188,  0.0210,\n",
            "        -0.0209,  0.0280,  0.0303, -0.0011, -0.0322, -0.0015, -0.0178,  0.0308,\n",
            "        -0.0237, -0.0332,  0.0004,  0.0153,  0.0157, -0.0118,  0.0034, -0.0084,\n",
            "         0.0166,  0.0023, -0.0286, -0.0295,  0.0002, -0.0297, -0.0080,  0.0014,\n",
            "         0.0164, -0.0007, -0.0296, -0.0096, -0.0171,  0.0142, -0.0325, -0.0087,\n",
            "        -0.0168,  0.0173,  0.0269, -0.0137,  0.0252, -0.0226, -0.0084,  0.0123,\n",
            "        -0.0169, -0.0006,  0.0027, -0.0015, -0.0121, -0.0131,  0.0018, -0.0033,\n",
            "        -0.0022, -0.0199,  0.0096, -0.0050,  0.0206,  0.0198,  0.0103,  0.0048,\n",
            "        -0.0288, -0.0091, -0.0220, -0.0236,  0.0295, -0.0323,  0.0352, -0.0297,\n",
            "        -0.0107,  0.0296, -0.0145, -0.0087, -0.0084,  0.0077, -0.0355,  0.0265,\n",
            "        -0.0195,  0.0058, -0.0284, -0.0204, -0.0247,  0.0050, -0.0011, -0.0150],\n",
            "       requires_grad=True)\n"
          ],
          "name": "stdout"
        }
      ]
    },
    {
      "cell_type": "markdown",
      "metadata": {
        "id": "NXRvzf80jtcp",
        "colab_type": "text"
      },
      "source": [
        "For custom initialization, we want to modify these tensors in place. These are actually autograd *Variables*, so we need to get back the actual tensors with `model.fc1.weight.data`. Once we have the tensors, we can fill them with zeros (for biases) or random normal values."
      ]
    },
    {
      "cell_type": "code",
      "metadata": {
        "id": "TzWA9aWOjtcr",
        "colab_type": "code",
        "outputId": "5c845303-14ef-4e5c-be2a-ee9d5295319c",
        "colab": {
          "base_uri": "https://localhost:8080/",
          "height": 127
        }
      },
      "source": [
        "# Set biases to all zeros\n",
        "model.fc1.bias.data.fill_(0)"
      ],
      "execution_count": 0,
      "outputs": [
        {
          "output_type": "execute_result",
          "data": {
            "text/plain": [
              "tensor([0., 0., 0., 0., 0., 0., 0., 0., 0., 0., 0., 0., 0., 0., 0., 0., 0., 0., 0., 0., 0., 0., 0., 0.,\n",
              "        0., 0., 0., 0., 0., 0., 0., 0., 0., 0., 0., 0., 0., 0., 0., 0., 0., 0., 0., 0., 0., 0., 0., 0.,\n",
              "        0., 0., 0., 0., 0., 0., 0., 0., 0., 0., 0., 0., 0., 0., 0., 0., 0., 0., 0., 0., 0., 0., 0., 0.,\n",
              "        0., 0., 0., 0., 0., 0., 0., 0., 0., 0., 0., 0., 0., 0., 0., 0., 0., 0., 0., 0., 0., 0., 0., 0.,\n",
              "        0., 0., 0., 0., 0., 0., 0., 0., 0., 0., 0., 0., 0., 0., 0., 0., 0., 0., 0., 0., 0., 0., 0., 0.,\n",
              "        0., 0., 0., 0., 0., 0., 0., 0.])"
            ]
          },
          "metadata": {
            "tags": []
          },
          "execution_count": 13
        }
      ]
    },
    {
      "cell_type": "code",
      "metadata": {
        "id": "7Ahv_E-4jtcw",
        "colab_type": "code",
        "outputId": "e0b49143-4b7a-49d4-eb52-0927f90ed7dc",
        "colab": {
          "base_uri": "https://localhost:8080/",
          "height": 146
        }
      },
      "source": [
        "# sample from random normal with standard dev = 0.01\n",
        "model.fc1.weight.data.normal_(std=0.01)"
      ],
      "execution_count": 0,
      "outputs": [
        {
          "output_type": "execute_result",
          "data": {
            "text/plain": [
              "tensor([[-0.0071, -0.0176,  0.0012,  ..., -0.0094,  0.0036,  0.0044],\n",
              "        [ 0.0108, -0.0044,  0.0056,  ...,  0.0328, -0.0087,  0.0141],\n",
              "        [-0.0009,  0.0029,  0.0050,  ...,  0.0080,  0.0015, -0.0041],\n",
              "        ...,\n",
              "        [ 0.0037,  0.0126,  0.0165,  ..., -0.0199,  0.0030,  0.0030],\n",
              "        [ 0.0059,  0.0072, -0.0028,  ...,  0.0006, -0.0041,  0.0089],\n",
              "        [ 0.0149, -0.0057, -0.0028,  ..., -0.0117, -0.0047, -0.0062]])"
            ]
          },
          "metadata": {
            "tags": []
          },
          "execution_count": 14
        }
      ]
    },
    {
      "cell_type": "markdown",
      "metadata": {
        "id": "xfVUra7kjtc2",
        "colab_type": "text"
      },
      "source": [
        "### Forward pass\n",
        "\n",
        "Now that we have a network, let's see what happens when we pass in an image."
      ]
    },
    {
      "cell_type": "code",
      "metadata": {
        "id": "vzb-myl8jtc3",
        "colab_type": "code",
        "outputId": "b9d1c622-16d5-487d-c317-05c66c8cd679",
        "colab": {
          "base_uri": "https://localhost:8080/",
          "height": 252
        }
      },
      "source": [
        "# Grab some data \n",
        "dataiter = iter(trainloader)\n",
        "images, labels = dataiter.next()\n",
        "\n",
        "# Resize images into a 1D vector, new shape is (batch size, color channels, image pixels) \n",
        "images.resize_(64, 1, 784)\n",
        "# or images.resize_(images.shape[0], 1, 784) to automatically get batch size\n",
        "\n",
        "# Forward pass through the network\n",
        "img_idx = 0\n",
        "ps = model.forward(images[img_idx,:])\n",
        "\n",
        "img = images[img_idx]\n",
        "helper.view_classify(img.view(1, 28, 28), ps)\n"
      ],
      "execution_count": 0,
      "outputs": [
        {
          "output_type": "display_data",
          "data": {
            "image/png": "[encoded data removed]",
            "text/plain": [
              "<Figure size 432x648 with 2 Axes>"
            ]
          },
          "metadata": {
            "tags": [],
            "image/png": {
              "width": 424,
              "height": 235
            }
          }
        }
      ]
    },
    {
      "cell_type": "markdown",
      "metadata": {
        "id": "7rqAr1_Ijtc8",
        "colab_type": "text"
      },
      "source": [
        "As you can see above, our network has basically no idea what this digit is. It's because we haven't trained it yet, all the weights are random!\n",
        "\n",
        "### Using `nn.Sequential`\n",
        "\n",
        "PyTorch provides a convenient way to build networks like this where a tensor is passed sequentially through operations, `nn.Sequential` ([documentation](https://pytorch.org/docs/master/nn.html#torch.nn.Sequential)). Using this to build the equivalent network:"
      ]
    },
    {
      "cell_type": "code",
      "metadata": {
        "id": "x0xffVv4jtc_",
        "colab_type": "code",
        "outputId": "336c5ce4-f50f-40e4-9151-cc1fc6ad528b",
        "colab": {
          "base_uri": "https://localhost:8080/",
          "height": 399
        }
      },
      "source": [
        "# Hyperparameters for our network\n",
        "input_size = 784\n",
        "hidden_sizes = [128, 64]\n",
        "output_size = 10\n",
        "\n",
        "# Build a feed-forward network\n",
        "model = nn.Sequential(nn.Linear(input_size, hidden_sizes[0]),\n",
        "                      nn.ReLU(),\n",
        "                      nn.Linear(hidden_sizes[0], hidden_sizes[1]),\n",
        "                      nn.ReLU(),\n",
        "                      nn.Linear(hidden_sizes[1], output_size),\n",
        "                      nn.Softmax(dim=1))\n",
        "print(model)\n",
        "\n",
        "# Forward pass through the network and display output\n",
        "images, labels = next(iter(trainloader))\n",
        "images.resize_(images.shape[0], 1, 784)\n",
        "ps = model.forward(images[0,:])\n",
        "helper.view_classify(images[0].view(1, 28, 28), ps)"
      ],
      "execution_count": 0,
      "outputs": [
        {
          "output_type": "stream",
          "text": [
            "Sequential(\n",
            "  (0): Linear(in_features=784, out_features=128, bias=True)\n",
            "  (1): ReLU()\n",
            "  (2): Linear(in_features=128, out_features=64, bias=True)\n",
            "  (3): ReLU()\n",
            "  (4): Linear(in_features=64, out_features=10, bias=True)\n",
            "  (5): Softmax(dim=1)\n",
            ")\n"
          ],
          "name": "stdout"
        },
        {
          "output_type": "display_data",
          "data": {
            "image/png": "[encoded data removed]",
            "text/plain": [
              "<Figure size 432x648 with 2 Axes>"
            ]
          },
          "metadata": {
            "tags": [],
            "image/png": {
              "width": 424,
              "height": 235
            }
          }
        }
      ]
    },
    {
      "cell_type": "markdown",
      "metadata": {
        "id": "tmRIwbqujtdH",
        "colab_type": "text"
      },
      "source": [
        "Here our model is the same as before: 784 input units, a hidden layer with 128 units, ReLU activation, 64 unit hidden layer, another ReLU, then the output layer with 10 units, and the softmax output.\n",
        "\n",
        "The operations are available by passing in the appropriate index. For example, if you want to get first Linear operation and look at the weights, you'd use `model[0]`."
      ]
    },
    {
      "cell_type": "code",
      "metadata": {
        "id": "fp2bMrh7jtdK",
        "colab_type": "code",
        "outputId": "c566b80f-3f11-405a-8847-69f1cb02ba83",
        "colab": {
          "base_uri": "https://localhost:8080/",
          "height": 201
        }
      },
      "source": [
        "print(model[0])\n",
        "model[0].weight"
      ],
      "execution_count": 0,
      "outputs": [
        {
          "output_type": "stream",
          "text": [
            "Linear(in_features=784, out_features=128, bias=True)\n"
          ],
          "name": "stdout"
        },
        {
          "output_type": "execute_result",
          "data": {
            "text/plain": [
              "Parameter containing:\n",
              "tensor([[ 0.0028,  0.0211, -0.0013,  ...,  0.0046,  0.0337,  0.0003],\n",
              "        [ 0.0220,  0.0135, -0.0029,  ..., -0.0304,  0.0315, -0.0341],\n",
              "        [ 0.0261,  0.0354, -0.0135,  ...,  0.0141,  0.0292,  0.0238],\n",
              "        ...,\n",
              "        [-0.0309, -0.0243, -0.0010,  ...,  0.0025, -0.0086, -0.0188],\n",
              "        [ 0.0053, -0.0314,  0.0164,  ...,  0.0222, -0.0084,  0.0007],\n",
              "        [ 0.0238,  0.0348,  0.0273,  ..., -0.0087, -0.0127,  0.0174]],\n",
              "       requires_grad=True)"
            ]
          },
          "metadata": {
            "tags": []
          },
          "execution_count": 17
        }
      ]
    },
    {
      "cell_type": "markdown",
      "metadata": {
        "id": "Avhz4HDNjtdT",
        "colab_type": "text"
      },
      "source": [
        "You can also pass in an `OrderedDict` to name the individual layers and operations, instead of using incremental integers. Note that dictionary keys must be unique, so _each operation must have a different name_."
      ]
    },
    {
      "cell_type": "code",
      "metadata": {
        "id": "fZlxbiFQjtdT",
        "colab_type": "code",
        "outputId": "93331cb6-c2b3-4edc-86c7-2c3a22d0759e",
        "colab": {
          "base_uri": "https://localhost:8080/",
          "height": 164
        }
      },
      "source": [
        "from collections import OrderedDict\n",
        "model = nn.Sequential(OrderedDict([\n",
        "                      ('fc1', nn.Linear(input_size, hidden_sizes[0])),\n",
        "                      ('relu1', nn.ReLU()),\n",
        "                      ('fc2', nn.Linear(hidden_sizes[0], hidden_sizes[1])),\n",
        "                      ('relu2', nn.ReLU()),\n",
        "                      ('output', nn.Linear(hidden_sizes[1], output_size)),\n",
        "                      ('softmax', nn.Softmax(dim=1))]))\n",
        "model"
      ],
      "execution_count": 0,
      "outputs": [
        {
          "output_type": "execute_result",
          "data": {
            "text/plain": [
              "Sequential(\n",
              "  (fc1): Linear(in_features=784, out_features=128, bias=True)\n",
              "  (relu1): ReLU()\n",
              "  (fc2): Linear(in_features=128, out_features=64, bias=True)\n",
              "  (relu2): ReLU()\n",
              "  (output): Linear(in_features=64, out_features=10, bias=True)\n",
              "  (softmax): Softmax(dim=1)\n",
              ")"
            ]
          },
          "metadata": {
            "tags": []
          },
          "execution_count": 18
        }
      ]
    },
    {
      "cell_type": "markdown",
      "metadata": {
        "id": "W1NqgaxMjtdY",
        "colab_type": "text"
      },
      "source": [
        "Now you can access layers either by integer or the name"
      ]
    },
    {
      "cell_type": "code",
      "metadata": {
        "id": "ZPibQQMfjtdZ",
        "colab_type": "code",
        "outputId": "892e2a35-06e7-4476-c739-c22910344606",
        "colab": {
          "base_uri": "https://localhost:8080/",
          "height": 54
        }
      },
      "source": [
        "print(model[0])\n",
        "print(model.fc1)"
      ],
      "execution_count": 0,
      "outputs": [
        {
          "output_type": "stream",
          "text": [
            "Linear(in_features=784, out_features=128, bias=True)\n",
            "Linear(in_features=784, out_features=128, bias=True)\n"
          ],
          "name": "stdout"
        }
      ]
    },
    {
      "cell_type": "markdown",
      "metadata": {
        "id": "gn5-Rfumjtdd",
        "colab_type": "text"
      },
      "source": [
        "In the next notebook, we'll see how we can train a neural network to accuractly predict the numbers appearing in the MNIST images."
      ]
    }
  ]
}